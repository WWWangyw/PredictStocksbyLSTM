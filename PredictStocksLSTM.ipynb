{
 "cells": [
  {
   "cell_type": "code",
   "execution_count": 1,
   "id": "d08272ab",
   "metadata": {},
   "outputs": [],
   "source": [
    "import pandas_datareader.data as web\n",
    "import datetime"
   ]
  },
  {
   "cell_type": "code",
   "execution_count": 2,
   "id": "1a814bac",
   "metadata": {},
   "outputs": [],
   "source": [
    "start=datetime.datetime(2000,1,1)\n",
    "end=datetime.datetime(2021,9,1)"
   ]
  },
  {
   "cell_type": "code",
   "execution_count": 3,
   "id": "053c5a48",
   "metadata": {},
   "outputs": [],
   "source": [
    "df=web.DataReader('GOOGL','stooq',start,end)"
   ]
  },
  {
   "cell_type": "code",
   "execution_count": 24,
   "id": "c12a1520",
   "metadata": {
    "scrolled": false
   },
   "outputs": [
    {
     "name": "stdout",
     "output_type": "stream",
     "text": [
      "                 Open      High        Low      Close       Volume    label\n",
      "Date                                                                       \n",
      "2004-08-19    2.50000    2.6015    2.39900    2.50850  894076000.0  2.53775\n",
      "2004-08-20    2.52525    2.7270    2.51250    2.70775  457144000.0  2.50025\n",
      "2004-08-23    2.76875    2.8370    2.72625    2.73500  365488000.0  2.53950\n",
      "2004-08-24    2.78100    2.7900    2.58925    2.62175  305252000.0  2.55750\n",
      "2004-08-25    2.62400    2.7000    2.59700    2.65000  183956000.0  2.55775\n",
      "...               ...       ...        ...        ...          ...      ...\n",
      "2021-07-29  136.15000  136.6610  135.54300  135.77800   31715720.0      NaN\n",
      "2021-07-30  135.03500  135.3050  134.25500  134.72700   25575780.0      NaN\n",
      "2021-08-02  135.11700  135.3360  133.79400  134.85400   21634200.0      NaN\n",
      "2021-08-03  135.13500  135.7320  133.32000  135.63000   20761880.0      NaN\n",
      "2021-08-04  135.34900  135.6500  134.48700  135.12600   19676020.0      NaN\n",
      "\n",
      "[4269 rows x 6 columns]\n"
     ]
    }
   ],
   "source": [
    "df.dropna(inplace=True)#要删掉空值，否则测试数据有问题,重试便发现少了数据（空值的）\n",
    "df.sort_index(inplace=True)\n",
    "pre_days=10\n",
    "df['label']=df['Close'].shift(-pre_days)\n",
    "print(df)"
   ]
  },
  {
   "cell_type": "code",
   "execution_count": 25,
   "id": "273e11f2",
   "metadata": {},
   "outputs": [],
   "source": [
    "from sklearn.preprocessing import StandardScaler"
   ]
  },
  {
   "cell_type": "code",
   "execution_count": 26,
   "id": "81ce3560",
   "metadata": {
    "scrolled": true
   },
   "outputs": [
    {
     "name": "stdout",
     "output_type": "stream",
     "text": [
      "[[-1.11067092 -1.10764158 -1.11272425 -1.10946028  4.8881565 ]\n",
      " [-1.10967557 -1.10274125 -1.10820951 -1.10161352  2.08531725]\n",
      " [-1.1000769  -1.09844615 -1.09970708 -1.10054037  1.4973607 ]\n",
      " ...\n",
      " [ 4.11703935  4.07516877  4.11383131  4.10250509 -0.70839884]\n",
      " [ 4.11774891  4.09063116  4.09497681  4.13306514 -0.71399461]\n",
      " [ 4.1261847   4.08742935  4.14139707  4.11321686 -0.72096021]]\n"
     ]
    }
   ],
   "source": [
    "scaler=StandardScaler()\n",
    "sca_x=scaler.fit_transform(df.iloc[:,:-1])\n",
    "print(sca_x)"
   ]
  },
  {
   "cell_type": "code",
   "execution_count": 27,
   "id": "88b565bd",
   "metadata": {},
   "outputs": [],
   "source": [
    "from collections import deque"
   ]
  },
  {
   "cell_type": "code",
   "execution_count": 40,
   "id": "b1ae8d0d",
   "metadata": {},
   "outputs": [],
   "source": [
    "#memory_days=5\n",
    "#若把记忆时间放长，查看测试效果\n",
    "memory_days=10\n",
    "deq=deque(maxlen=memory_days)"
   ]
  },
  {
   "cell_type": "code",
   "execution_count": 41,
   "id": "4127ed0c",
   "metadata": {},
   "outputs": [
    {
     "name": "stdout",
     "output_type": "stream",
     "text": [
      "4250\n",
      "10\n"
     ]
    }
   ],
   "source": [
    "x=[]\n",
    "for i in sca_x:\n",
    "    deq.append(i)\n",
    "    if len(deq)==memory_days:\n",
    "        x.append(list(deq))\n",
    "\n",
    "x_lately=x[-pre_days:]\n",
    "x=x[:-pre_days]\n",
    "print(len(x))\n",
    "print(len(x_lately))"
   ]
  },
  {
   "cell_type": "code",
   "execution_count": 42,
   "id": "1e5994be",
   "metadata": {},
   "outputs": [
    {
     "name": "stdout",
     "output_type": "stream",
     "text": [
      "4250\n"
     ]
    }
   ],
   "source": [
    "y=df['label'].values[memory_days-1:-pre_days]\n",
    "print(len(y))"
   ]
  },
  {
   "cell_type": "code",
   "execution_count": 44,
   "id": "914a0cc9",
   "metadata": {},
   "outputs": [],
   "source": [
    "import numpy as np"
   ]
  },
  {
   "cell_type": "code",
   "execution_count": 45,
   "id": "e540e847",
   "metadata": {},
   "outputs": [
    {
     "name": "stdout",
     "output_type": "stream",
     "text": [
      "(4250, 10, 5)\n",
      "(4250,)\n"
     ]
    }
   ],
   "source": [
    "x=np.array(x)\n",
    "y=np.array(y)\n",
    "print(x.shape)\n",
    "print(y.shape)"
   ]
  },
  {
   "cell_type": "code",
   "execution_count": 46,
   "id": "1dd89987",
   "metadata": {},
   "outputs": [],
   "source": [
    "#划分测试集和训练集\n",
    "from sklearn.model_selection import train_test_split\n",
    "X_train,X_test,y_train,y_test=train_test_split(x,y,test_size=0.1)"
   ]
  },
  {
   "cell_type": "code",
   "execution_count": 47,
   "id": "fb42c9d0",
   "metadata": {},
   "outputs": [],
   "source": [
    "import tensorflow\n",
    "from tensorflow.keras.models import Sequential\n",
    "from tensorflow.keras.layers import LSTM, Dense, Dropout"
   ]
  },
  {
   "cell_type": "code",
   "execution_count": 48,
   "id": "55983444",
   "metadata": {},
   "outputs": [],
   "source": [
    "import tensorflow\n",
    "from tensorflow.keras.models import Sequential\n",
    "from tensorflow.keras.layers import LSTM, Dense, Dropout\n",
    "\n",
    "#构建LSTM神经网络\n",
    "model=Sequential()\n",
    "#10个神经单元,激活函数：relu，循环神经网络所以return_sequences=True\n",
    "model.add(LSTM(10,input_shape=x.shape[1:],activation='relu',return_sequences=True))\n",
    "#防止过拟合 删除0.1的神经元\n",
    "model.add(Dropout(0.1))\n",
    "#构建第二层\n",
    "model.add(LSTM(10,activation='relu',return_sequences=True))\n",
    "model.add(Dropout(0.1))\n",
    "\n",
    "model.add(LSTM(10,activation='relu'))\n",
    "model.add(Dropout(0.1))\n",
    "#构建全连接层\n",
    "model.add(Dense(10,activation='relu'))\n",
    "model.add(Dropout(0.1))\n",
    "\n",
    "model.add(Dense(1))\n",
    "#编译 优化器adam，损失函数mse平均方差，评价函数mape\n",
    "model.compile(optimizer='adam',\n",
    "             loss='mse',\n",
    "             metrics=['mape'])"
   ]
  },
  {
   "cell_type": "code",
   "execution_count": 49,
   "id": "b7617058",
   "metadata": {},
   "outputs": [
    {
     "name": "stdout",
     "output_type": "stream",
     "text": [
      "Epoch 1/50\n",
      "120/120 [==============================] - 4s 17ms/step - loss: 825.5714 - mape: 68.1166 - val_loss: 25.0202 - val_mape: 18.6133\n",
      "Epoch 2/50\n",
      "120/120 [==============================] - 2s 16ms/step - loss: 126.8309 - mape: 28.1348 - val_loss: 38.0758 - val_mape: 18.2544\n",
      "Epoch 3/50\n",
      "120/120 [==============================] - 2s 13ms/step - loss: 99.5389 - mape: 23.7518 - val_loss: 18.9338 - val_mape: 17.0376\n",
      "Epoch 4/50\n",
      "120/120 [==============================] - 2s 14ms/step - loss: 99.8140 - mape: 22.8975 - val_loss: 13.0449 - val_mape: 14.4855\n",
      "Epoch 5/50\n",
      "120/120 [==============================] - 2s 13ms/step - loss: 97.2060 - mape: 21.9474 - val_loss: 22.3363 - val_mape: 14.4877\n",
      "Epoch 6/50\n",
      "120/120 [==============================] - 2s 13ms/step - loss: 83.6372 - mape: 21.5469 - val_loss: 11.4455 - val_mape: 14.6085\n",
      "Epoch 7/50\n",
      "120/120 [==============================] - 2s 13ms/step - loss: 76.0091 - mape: 20.2092 - val_loss: 18.8416 - val_mape: 13.1386\n",
      "Epoch 8/50\n",
      "120/120 [==============================] - 2s 16ms/step - loss: 70.6441 - mape: 19.7140 - val_loss: 13.1754 - val_mape: 9.7158\n",
      "Epoch 9/50\n",
      "120/120 [==============================] - 2s 14ms/step - loss: 62.8457 - mape: 19.9786 - val_loss: 12.9866 - val_mape: 11.2951\n",
      "Epoch 10/50\n",
      "120/120 [==============================] - 2s 15ms/step - loss: 66.3702 - mape: 19.5978 - val_loss: 9.7982 - val_mape: 10.0742\n",
      "Epoch 11/50\n",
      "120/120 [==============================] - 2s 14ms/step - loss: 65.2326 - mape: 19.8819 - val_loss: 21.4815 - val_mape: 12.0136\n",
      "Epoch 12/50\n",
      "120/120 [==============================] - 2s 13ms/step - loss: 63.9273 - mape: 19.1304 - val_loss: 15.9480 - val_mape: 12.2054\n",
      "Epoch 13/50\n",
      "120/120 [==============================] - 2s 13ms/step - loss: 58.1549 - mape: 18.4812 - val_loss: 26.7162 - val_mape: 13.4217\n",
      "Epoch 14/50\n",
      "120/120 [==============================] - 2s 15ms/step - loss: 55.6209 - mape: 18.1139 - val_loss: 19.0118 - val_mape: 10.4792\n",
      "Epoch 15/50\n",
      "120/120 [==============================] - 2s 15ms/step - loss: 59.3765 - mape: 18.3021 - val_loss: 17.9446 - val_mape: 11.7436\n",
      "Epoch 16/50\n",
      "120/120 [==============================] - 2s 17ms/step - loss: 56.6619 - mape: 18.5891 - val_loss: 16.8029 - val_mape: 9.9222\n",
      "Epoch 17/50\n",
      "120/120 [==============================] - 2s 15ms/step - loss: 57.7849 - mape: 18.0642 - val_loss: 13.7342 - val_mape: 9.6017\n",
      "Epoch 18/50\n",
      "120/120 [==============================] - 2s 14ms/step - loss: 51.5551 - mape: 17.7548 - val_loss: 20.3189 - val_mape: 10.2152\n",
      "Epoch 19/50\n",
      "120/120 [==============================] - 2s 14ms/step - loss: 45.8933 - mape: 17.2157 - val_loss: 18.8857 - val_mape: 11.5174\n",
      "Epoch 20/50\n",
      "120/120 [==============================] - 2s 14ms/step - loss: 47.1699 - mape: 17.3023 - val_loss: 21.6822 - val_mape: 10.6868\n",
      "Epoch 21/50\n",
      "120/120 [==============================] - 2s 14ms/step - loss: 54.2257 - mape: 17.3415 - val_loss: 31.3351 - val_mape: 12.4983\n",
      "Epoch 22/50\n",
      "120/120 [==============================] - 2s 16ms/step - loss: 49.2696 - mape: 16.7636 - val_loss: 43.0738 - val_mape: 12.1824\n",
      "Epoch 23/50\n",
      "120/120 [==============================] - 2s 16ms/step - loss: 51.8345 - mape: 16.7834 - val_loss: 15.7025 - val_mape: 11.8937\n",
      "Epoch 24/50\n",
      "120/120 [==============================] - 2s 15ms/step - loss: 45.5918 - mape: 16.4383 - val_loss: 20.6010 - val_mape: 9.4397\n",
      "Epoch 25/50\n",
      "120/120 [==============================] - 2s 14ms/step - loss: 46.2271 - mape: 16.2401 - val_loss: 40.2848 - val_mape: 15.4977\n",
      "Epoch 26/50\n",
      "120/120 [==============================] - 1s 12ms/step - loss: 47.1909 - mape: 16.6791 - val_loss: 32.5272 - val_mape: 12.5841\n",
      "Epoch 27/50\n",
      "120/120 [==============================] - 1s 12ms/step - loss: 45.3088 - mape: 16.3752 - val_loss: 19.5433 - val_mape: 10.5666\n",
      "Epoch 28/50\n",
      "120/120 [==============================] - 1s 12ms/step - loss: 46.3551 - mape: 16.3900 - val_loss: 32.7400 - val_mape: 12.0608\n",
      "Epoch 29/50\n",
      "120/120 [==============================] - 1s 12ms/step - loss: 46.9746 - mape: 15.9145 - val_loss: 20.9435 - val_mape: 9.7668\n",
      "Epoch 30/50\n",
      "120/120 [==============================] - 2s 14ms/step - loss: 44.9671 - mape: 15.6745 - val_loss: 36.6559 - val_mape: 11.6950\n",
      "Epoch 31/50\n",
      "120/120 [==============================] - 2s 15ms/step - loss: 43.6200 - mape: 15.4047 - val_loss: 36.6730 - val_mape: 10.5082\n",
      "Epoch 32/50\n",
      "120/120 [==============================] - 2s 16ms/step - loss: 42.7513 - mape: 14.7932 - val_loss: 47.7672 - val_mape: 11.9618\n",
      "Epoch 33/50\n",
      "120/120 [==============================] - 2s 15ms/step - loss: 43.1235 - mape: 14.3944 - val_loss: 49.4275 - val_mape: 13.4000\n",
      "Epoch 34/50\n",
      "120/120 [==============================] - 2s 15ms/step - loss: 37.9117 - mape: 14.3867 - val_loss: 41.6254 - val_mape: 12.0836\n",
      "Epoch 35/50\n",
      "120/120 [==============================] - 2s 15ms/step - loss: 42.9125 - mape: 14.2645 - val_loss: 38.7842 - val_mape: 10.1322\n",
      "Epoch 36/50\n",
      "120/120 [==============================] - 1s 12ms/step - loss: 46.4671 - mape: 15.0886 - val_loss: 38.4024 - val_mape: 10.7908\n",
      "Epoch 37/50\n",
      "120/120 [==============================] - 1s 12ms/step - loss: 42.5132 - mape: 14.0390 - val_loss: 47.1005 - val_mape: 14.5261\n",
      "Epoch 38/50\n",
      "120/120 [==============================] - 2s 15ms/step - loss: 40.9878 - mape: 14.1000 - val_loss: 41.6507 - val_mape: 12.5059\n",
      "Epoch 39/50\n",
      "120/120 [==============================] - 1s 12ms/step - loss: 42.4973 - mape: 13.5757 - val_loss: 24.9586 - val_mape: 7.7677\n",
      "Epoch 40/50\n",
      "120/120 [==============================] - 2s 18ms/step - loss: 38.0143 - mape: 13.2944 - val_loss: 34.8318 - val_mape: 10.0934\n",
      "Epoch 41/50\n",
      "120/120 [==============================] - 2s 18ms/step - loss: 39.3587 - mape: 13.6083 - val_loss: 47.5666 - val_mape: 10.9700\n",
      "Epoch 42/50\n",
      "120/120 [==============================] - 2s 16ms/step - loss: 36.2869 - mape: 13.1226 - val_loss: 37.1251 - val_mape: 11.9911\n",
      "Epoch 43/50\n",
      "120/120 [==============================] - 2s 14ms/step - loss: 37.9739 - mape: 13.3413 - val_loss: 37.0919 - val_mape: 10.5211\n",
      "Epoch 44/50\n",
      "120/120 [==============================] - 2s 15ms/step - loss: 38.6024 - mape: 13.3261 - val_loss: 50.6443 - val_mape: 11.8903\n",
      "Epoch 45/50\n",
      "120/120 [==============================] - 2s 16ms/step - loss: 37.5512 - mape: 13.2747 - val_loss: 55.3402 - val_mape: 11.7954\n",
      "Epoch 46/50\n",
      "120/120 [==============================] - 2s 15ms/step - loss: 38.4910 - mape: 13.0533 - val_loss: 28.9777 - val_mape: 9.8797\n",
      "Epoch 47/50\n",
      "120/120 [==============================] - 2s 16ms/step - loss: 35.5038 - mape: 12.9856 - val_loss: 23.3650 - val_mape: 7.8950\n",
      "Epoch 48/50\n",
      "120/120 [==============================] - 2s 15ms/step - loss: 43.2743 - mape: 13.1473 - val_loss: 38.1976 - val_mape: 12.8950\n",
      "Epoch 49/50\n",
      "120/120 [==============================] - 2s 15ms/step - loss: 39.3833 - mape: 13.2464 - val_loss: 15.1292 - val_mape: 7.2315\n",
      "Epoch 50/50\n",
      "120/120 [==============================] - 1s 12ms/step - loss: 44.2491 - mape: 13.8649 - val_loss: 13.9953 - val_mape: 6.7908\n"
     ]
    },
    {
     "data": {
      "text/plain": [
       "<keras.callbacks.History at 0x1d1875e1fa0>"
      ]
     },
     "execution_count": 49,
     "metadata": {},
     "output_type": "execute_result"
    }
   ],
   "source": [
    "##初步训练模型  validation_data:校验的数据集\n",
    "model.fit(X_train,y_train,batch_size=32, epochs=50, validation_data=(X_test, y_test))"
   ]
  },
  {
   "cell_type": "code",
   "execution_count": null,
   "id": "4614ba2e",
   "metadata": {},
   "outputs": [],
   "source": []
  },
  {
   "cell_type": "code",
   "execution_count": null,
   "id": "2949f796",
   "metadata": {},
   "outputs": [],
   "source": []
  },
  {
   "cell_type": "code",
   "execution_count": null,
   "id": "b6113457",
   "metadata": {},
   "outputs": [],
   "source": []
  },
  {
   "cell_type": "code",
   "execution_count": 2,
   "id": "75549684",
   "metadata": {},
   "outputs": [],
   "source": [
    "import pandas_datareader.data as web  #https://pandas-datareader.readthedocs.io/en/latest/remote_data.html#remote-data-stooq\n",
    "import datetime\n",
    "\n",
    "#设定开始时间和结束时间\n",
    "start=datetime.datetime(2000,1,1)  \n",
    "end=datetime.datetime(2021,9,1)\n",
    "df=web.DataReader('GOOGL','stooq',start,end)\n",
    "#数据预处理  优化\n",
    "\n",
    "def Stock_Price_LSTM_Data_Precessing(df,memory_days,pre_days):\n",
    "    df.dropna(inplace=True)#要删掉空值，否则测试数据有问题,重试便发现少了数据（空值的）\n",
    "    df.sort_index(inplace=True)\n",
    "    \n",
    "    df['label']=df['Close'].shift(-pre_days)  #label是收盘价向上移10天\n",
    "    \n",
    "    #数据标准化\n",
    "    from sklearn.preprocessing import StandardScaler\n",
    "    scaler=StandardScaler()\n",
    "    sca_x=scaler.fit_transform(df.iloc[:,:-1])\n",
    "    \n",
    "    from collections import deque\n",
    "    deq=deque(maxlen=memory_days)\n",
    "    \n",
    "    x=[]\n",
    "    for i in sca_x:\n",
    "        deq.append(i)\n",
    "        if len(deq)==memory_days:\n",
    "            x.append(list(deq))\n",
    "\n",
    "    x_lately=x[-pre_days:]\n",
    "    x=x[:-pre_days]\n",
    "    \n",
    "    y=df['label'].values[memory_days-1:-pre_days]\n",
    "\n",
    "    import numpy as np\n",
    "    x=np.array(x)\n",
    "    y=np.array(y)\n",
    "    \n",
    "    return x,y,x_lately"
   ]
  },
  {
   "cell_type": "code",
   "execution_count": 3,
   "id": "fe588b8b",
   "metadata": {},
   "outputs": [],
   "source": [
    "x,y,x_lately=Stock_Price_LSTM_Data_Precessing(df,5,10)"
   ]
  },
  {
   "cell_type": "code",
   "execution_count": 4,
   "id": "8dccb0c8",
   "metadata": {},
   "outputs": [
    {
     "name": "stdout",
     "output_type": "stream",
     "text": [
      "4275\n",
      "4275\n",
      "10\n"
     ]
    }
   ],
   "source": [
    "print(len(x))\n",
    "print(len(y))\n",
    "print(len(x_lately))"
   ]
  },
  {
   "cell_type": "code",
   "execution_count": 20,
   "id": "83067f3b",
   "metadata": {},
   "outputs": [
    {
     "name": "stdout",
     "output_type": "stream",
     "text": [
      "Epoch 1/50\n",
      "105/105 [==============================] - 4s 12ms/step - loss: 287.6686 - mape: 70.7748 - val_loss: 380.2642 - val_mape: 30.7549\n",
      "INFO:tensorflow:Assets written to: ./modelsAgain\\30.75.hdf5_01_men_5_lstm_1_dense_1_units_32\\assets\n",
      "Epoch 2/50\n",
      "105/105 [==============================] - 1s 10ms/step - loss: 25.0390 - mape: 25.7248 - val_loss: 19.0348 - val_mape: 5.9218\n",
      "INFO:tensorflow:Assets written to: ./modelsAgain\\5.92.hdf5_02_men_5_lstm_1_dense_1_units_32\\assets\n",
      "Epoch 3/50\n",
      "105/105 [==============================] - 1s 10ms/step - loss: 14.8133 - mape: 17.7049 - val_loss: 8.5296 - val_mape: 4.2719\n",
      "INFO:tensorflow:Assets written to: ./modelsAgain\\4.27.hdf5_03_men_5_lstm_1_dense_1_units_32\\assets\n",
      "Epoch 4/50\n",
      "105/105 [==============================] - 1s 10ms/step - loss: 11.9039 - mape: 13.7459 - val_loss: 10.6871 - val_mape: 4.5080\n",
      "Epoch 5/50\n",
      "105/105 [==============================] - 1s 10ms/step - loss: 10.4752 - mape: 13.5050 - val_loss: 9.1666 - val_mape: 4.4822\n",
      "Epoch 6/50\n",
      "105/105 [==============================] - 1s 10ms/step - loss: 10.4617 - mape: 13.2141 - val_loss: 10.8347 - val_mape: 4.9516\n",
      "Epoch 7/50\n",
      "105/105 [==============================] - ETA: 0s - loss: 9.9561 - mape: 12.8212 - 1s 10ms/step - loss: 10.0394 - mape: 12.8697 - val_loss: 7.9379 - val_mape: 4.0703\n",
      "INFO:tensorflow:Assets written to: ./modelsAgain\\4.07.hdf5_07_men_5_lstm_1_dense_1_units_32\\assets\n",
      "Epoch 8/50\n",
      "105/105 [==============================] - 1s 10ms/step - loss: 9.5504 - mape: 12.4748 - val_loss: 8.7690 - val_mape: 4.1460\n",
      "Epoch 9/50\n",
      "105/105 [==============================] - 1s 10ms/step - loss: 8.9974 - mape: 11.9252 - val_loss: 8.2529 - val_mape: 4.2081\n",
      "Epoch 10/50\n",
      "105/105 [==============================] - 1s 10ms/step - loss: 9.1526 - mape: 11.9771 - val_loss: 14.6510 - val_mape: 5.8426\n",
      "Epoch 11/50\n",
      "105/105 [==============================] - 1s 10ms/step - loss: 8.9435 - mape: 11.6128 - val_loss: 8.3145 - val_mape: 4.2200\n",
      "Epoch 12/50\n",
      "105/105 [==============================] - 1s 10ms/step - loss: 8.9852 - mape: 11.7595 - val_loss: 25.2395 - val_mape: 7.8755\n",
      "Epoch 13/50\n",
      "105/105 [==============================] - 1s 10ms/step - loss: 9.1781 - mape: 11.8788 - val_loss: 7.3672 - val_mape: 3.9236\n",
      "INFO:tensorflow:Assets written to: ./modelsAgain\\3.92.hdf5_13_men_5_lstm_1_dense_1_units_32\\assets\n",
      "Epoch 14/50\n",
      "105/105 [==============================] - 1s 11ms/step - loss: 8.7785 - mape: 11.3825 - val_loss: 7.3707 - val_mape: 3.8461\n",
      "INFO:tensorflow:Assets written to: ./modelsAgain\\3.85.hdf5_14_men_5_lstm_1_dense_1_units_32\\assets\n",
      "Epoch 15/50\n",
      "105/105 [==============================] - 1s 8ms/step - loss: 8.2143 - mape: 11.3734 - val_loss: 28.3105 - val_mape: 8.4163\n",
      "Epoch 16/50\n",
      "105/105 [==============================] - 1s 11ms/step - loss: 8.7674 - mape: 11.4893 - val_loss: 13.7595 - val_mape: 5.1384\n",
      "Epoch 17/50\n",
      "105/105 [==============================] - 1s 9ms/step - loss: 8.3146 - mape: 11.0273 - val_loss: 15.5266 - val_mape: 6.0218\n",
      "Epoch 18/50\n",
      "105/105 [==============================] - 1s 9ms/step - loss: 7.9837 - mape: 10.9001 - val_loss: 27.7991 - val_mape: 8.3363\n",
      "Epoch 19/50\n",
      "105/105 [==============================] - 1s 9ms/step - loss: 8.2413 - mape: 11.0707 - val_loss: 28.5068 - val_mape: 8.1618\n",
      "Epoch 20/50\n",
      "105/105 [==============================] - 1s 9ms/step - loss: 8.0520 - mape: 10.8442 - val_loss: 7.0250 - val_mape: 3.8217\n",
      "INFO:tensorflow:Assets written to: ./modelsAgain\\3.82.hdf5_20_men_5_lstm_1_dense_1_units_32\\assets\n",
      "Epoch 21/50\n",
      "105/105 [==============================] - 1s 8ms/step - loss: 7.5202 - mape: 10.8351 - val_loss: 8.2304 - val_mape: 4.2086\n",
      "Epoch 22/50\n",
      "105/105 [==============================] - 1s 11ms/step - loss: 8.3196 - mape: 10.8584 - val_loss: 18.4709 - val_mape: 6.6396\n",
      "Epoch 23/50\n",
      "105/105 [==============================] - 1s 9ms/step - loss: 8.3265 - mape: 10.6955 - val_loss: 20.9703 - val_mape: 7.1185\n",
      "Epoch 24/50\n",
      "105/105 [==============================] - 1s 9ms/step - loss: 8.3128 - mape: 10.8969 - val_loss: 7.5646 - val_mape: 3.8707\n",
      "Epoch 25/50\n",
      "105/105 [==============================] - 1s 9ms/step - loss: 7.3794 - mape: 10.3434 - val_loss: 9.0813 - val_mape: 4.4625\n",
      "Epoch 26/50\n",
      "105/105 [==============================] - 1s 8ms/step - loss: 7.9178 - mape: 10.8947 - val_loss: 25.9710 - val_mape: 8.0257\n",
      "Epoch 27/50\n",
      "105/105 [==============================] - 1s 8ms/step - loss: 7.8088 - mape: 10.3911 - val_loss: 55.8958 - val_mape: 12.3767\n",
      "Epoch 28/50\n",
      "105/105 [==============================] - 1s 8ms/step - loss: 7.5720 - mape: 10.3821 - val_loss: 9.1039 - val_mape: 4.1992\n",
      "Epoch 29/50\n",
      "105/105 [==============================] - 1s 8ms/step - loss: 7.8530 - mape: 10.3914 - val_loss: 8.5771 - val_mape: 4.3138\n",
      "Epoch 30/50\n",
      "105/105 [==============================] - 1s 8ms/step - loss: 6.9896 - mape: 9.8310 - val_loss: 14.6172 - val_mape: 5.2389\n",
      "Epoch 31/50\n",
      "105/105 [==============================] - 1s 9ms/step - loss: 7.5995 - mape: 10.3667 - val_loss: 19.5306 - val_mape: 6.8532\n",
      "Epoch 32/50\n",
      "105/105 [==============================] - 1s 8ms/step - loss: 7.8979 - mape: 10.4409 - val_loss: 14.5229 - val_mape: 5.8201\n",
      "Epoch 33/50\n",
      "105/105 [==============================] - 1s 8ms/step - loss: 7.6553 - mape: 10.5065 - val_loss: 7.7463 - val_mape: 4.0492\n",
      "Epoch 34/50\n",
      "105/105 [==============================] - 1s 8ms/step - loss: 7.2552 - mape: 10.0232 - val_loss: 15.5096 - val_mape: 5.4513\n",
      "Epoch 35/50\n",
      "105/105 [==============================] - 1s 8ms/step - loss: 8.0744 - mape: 10.5530 - val_loss: 17.2466 - val_mape: 6.3915\n",
      "Epoch 36/50\n",
      "105/105 [==============================] - 1s 8ms/step - loss: 7.4045 - mape: 10.1906 - val_loss: 13.0079 - val_mape: 5.4648\n",
      "Epoch 37/50\n",
      "105/105 [==============================] - 1s 8ms/step - loss: 6.7377 - mape: 9.8239 - val_loss: 12.0853 - val_mape: 5.2263\n",
      "Epoch 38/50\n",
      "105/105 [==============================] - 1s 9ms/step - loss: 7.3053 - mape: 9.9843 - val_loss: 11.6329 - val_mape: 4.6702\n",
      "Epoch 39/50\n",
      "105/105 [==============================] - 1s 9ms/step - loss: 7.1589 - mape: 9.9294 - val_loss: 30.4798 - val_mape: 8.7876\n",
      "Epoch 40/50\n",
      "105/105 [==============================] - 1s 8ms/step - loss: 7.3792 - mape: 10.0713 - val_loss: 13.1674 - val_mape: 5.4990\n",
      "Epoch 41/50\n",
      "105/105 [==============================] - 1s 8ms/step - loss: 6.8851 - mape: 9.7987 - val_loss: 9.2932 - val_mape: 4.4921\n",
      "Epoch 42/50\n",
      "105/105 [==============================] - 1s 8ms/step - loss: 7.2064 - mape: 9.7693 - val_loss: 15.1513 - val_mape: 5.4579\n",
      "Epoch 43/50\n",
      "105/105 [==============================] - 1s 8ms/step - loss: 7.0185 - mape: 9.9085 - val_loss: 14.4789 - val_mape: 5.7612\n",
      "Epoch 44/50\n",
      "105/105 [==============================] - 1s 8ms/step - loss: 7.4397 - mape: 9.8594 - val_loss: 7.4973 - val_mape: 3.9447\n",
      "Epoch 45/50\n",
      "105/105 [==============================] - 1s 8ms/step - loss: 7.2813 - mape: 10.0294 - val_loss: 8.2749 - val_mape: 4.2330\n",
      "Epoch 46/50\n",
      "105/105 [==============================] - 1s 8ms/step - loss: 6.4415 - mape: 9.2766 - val_loss: 11.5653 - val_mape: 5.1190\n",
      "Epoch 47/50\n",
      "105/105 [==============================] - 1s 8ms/step - loss: 6.9680 - mape: 9.8944 - val_loss: 7.8476 - val_mape: 4.0960\n",
      "Epoch 48/50\n",
      "105/105 [==============================] - 1s 10ms/step - loss: 6.7049 - mape: 9.5656 - val_loss: 6.6376 - val_mape: 3.7094\n",
      "INFO:tensorflow:Assets written to: ./modelsAgain\\3.71.hdf5_48_men_5_lstm_1_dense_1_units_32\\assets\n",
      "Epoch 49/50\n",
      "105/105 [==============================] - 1s 8ms/step - loss: 7.1772 - mape: 9.8312 - val_loss: 10.6071 - val_mape: 4.8551\n",
      "Epoch 50/50\n",
      "105/105 [==============================] - 1s 13ms/step - loss: 7.0526 - mape: 9.6356 - val_loss: 7.9993 - val_mape: 4.1412\n"
     ]
    }
   ],
   "source": [
    "\n",
    "from tensorflow.keras.callbacks import ModelCheckpoint\n",
    "\n",
    "#memory_days=[5,10,15]\n",
    "#lstm_layers=[1,2,3]\n",
    "#dense_layers=[1,2,3]\n",
    "#units=[16,32]#神经元\n",
    "memory_days=[5]    #记忆5天，5天数据作为输入\n",
    "lstm_layers=[1]\n",
    "dense_layers=[1]\n",
    "units=[32]#神经元\n",
    "pre_days=10         #预测10天后的数据  比如：8月10日预测8月20日数据，把8月5日--8月10日数据作为输入\n",
    "#callbacks用transform 能在每一次训练中找到最优的模型（https://keras.io/api/callbacks/model_checkpoint/）\n",
    "for the_men_days in memory_days:\n",
    "    for the_lstm_layers in lstm_layers:\n",
    "        for the_dense_layers in dense_layers:\n",
    "            for the_units in units:        #{epoch:02d}【：第几期】-{val_loss:.2f}.hdf5【：偏差率】中loss改mape\n",
    "                checkpoint_filepath='./modelsAgain/{val_mape:.2f}.hdf5_{epoch:02d}_'+f'men_{the_men_days}_lstm_{the_lstm_layers}_dense_{the_dense_layers}_units_{the_units}'\n",
    "                \n",
    "                Checkpoint=ModelCheckpoint(\n",
    "                    filepath=checkpoint_filepath,\n",
    "                    save_weights_only=False,\n",
    "                    monitor='val_mape',\n",
    "                    mode='min',\n",
    "                    save_best_only=True)\n",
    "\n",
    "                x,y,x_lately=Stock_Price_LSTM_Data_Precessing(df,the_men_days,pre_days)\n",
    "                #划分测试集和训练集\n",
    "                from sklearn.model_selection import train_test_split\n",
    "                X_train,X_test,y_train,y_test=train_test_split(x,y,shuffle=False,test_size=0.1)#循序不打乱\n",
    "\n",
    "                \n",
    "                \n",
    "                import tensorflow\n",
    "                from tensorflow.keras.models import Sequential\n",
    "                from tensorflow.keras.layers import LSTM, Dense, Dropout\n",
    "\n",
    "                #构建LSTM神经网络\n",
    "                model=Sequential()\n",
    "                #10个神经单元,激活函数：relu，循环神经网络所以return_sequences=True\n",
    "                model.add(LSTM(the_units,input_shape=x.shape[1:],activation='relu',return_sequences=True))\n",
    "                #防止过拟合 删除0.1的神经元\n",
    "                model.add(Dropout(0.1))\n",
    "                \n",
    "                for i in range(the_lstm_layers):\n",
    "                    #构建第二层\n",
    "                    model.add(LSTM(the_units,activation='relu',return_sequences=True))\n",
    "                    model.add(Dropout(0.1))\n",
    "\n",
    "                model.add(LSTM(the_units,activation='relu'))\n",
    "                model.add(Dropout(0.1))\n",
    "                \n",
    "                for i in range(the_dense_layers):\n",
    "                    #构建全连接层\n",
    "                    model.add(Dense(the_units,activation='relu'))\n",
    "                    model.add(Dropout(0.1))\n",
    "\n",
    "                model.add(Dense(1))\n",
    "                #编译 优化器adam，损失函数mse平均方差，评价函数mape\n",
    "                model.compile(optimizer='adam',\n",
    "                             loss='mse',\n",
    "                             metrics=['mape'])\n",
    "                model.fit(X_train,y_train,batch_size=32,epochs=50,validation_data=(X_test,y_test),callbacks=[Checkpoint])"
   ]
  },
  {
   "cell_type": "code",
   "execution_count": 21,
   "id": "64829df7",
   "metadata": {},
   "outputs": [
    {
     "ename": "OSError",
     "evalue": "SavedModel file does not exist at: ./models/3.71.hdf5_48_men_5_lstm_1_dense_1_units_32\\{saved_model.pbtxt|saved_model.pb}",
     "output_type": "error",
     "traceback": [
      "\u001b[1;31m---------------------------------------------------------------------------\u001b[0m",
      "\u001b[1;31mOSError\u001b[0m                                   Traceback (most recent call last)",
      "\u001b[1;32m<ipython-input-21-76956f3794c9>\u001b[0m in \u001b[0;36m<module>\u001b[1;34m\u001b[0m\n\u001b[0;32m      1\u001b[0m \u001b[1;32mfrom\u001b[0m \u001b[0mtensorflow\u001b[0m\u001b[1;33m.\u001b[0m\u001b[0mkeras\u001b[0m\u001b[1;33m.\u001b[0m\u001b[0mmodels\u001b[0m \u001b[1;32mimport\u001b[0m \u001b[0mload_model\u001b[0m\u001b[1;33m\u001b[0m\u001b[1;33m\u001b[0m\u001b[0m\n\u001b[1;32m----> 2\u001b[1;33m \u001b[0mbest_model\u001b[0m\u001b[1;33m=\u001b[0m\u001b[0mload_model\u001b[0m\u001b[1;33m(\u001b[0m\u001b[1;34m'./models/3.71.hdf5_48_men_5_lstm_1_dense_1_units_32'\u001b[0m\u001b[1;33m)\u001b[0m\u001b[1;33m\u001b[0m\u001b[1;33m\u001b[0m\u001b[0m\n\u001b[0m",
      "\u001b[1;32m~\\anaconda3\\lib\\site-packages\\keras\\saving\\save.py\u001b[0m in \u001b[0;36mload_model\u001b[1;34m(filepath, custom_objects, compile, options)\u001b[0m\n\u001b[0;32m    203\u001b[0m         \u001b[0mfilepath\u001b[0m \u001b[1;33m=\u001b[0m \u001b[0mpath_to_string\u001b[0m\u001b[1;33m(\u001b[0m\u001b[0mfilepath\u001b[0m\u001b[1;33m)\u001b[0m\u001b[1;33m\u001b[0m\u001b[1;33m\u001b[0m\u001b[0m\n\u001b[0;32m    204\u001b[0m         \u001b[1;32mif\u001b[0m \u001b[0misinstance\u001b[0m\u001b[1;33m(\u001b[0m\u001b[0mfilepath\u001b[0m\u001b[1;33m,\u001b[0m \u001b[0mstr\u001b[0m\u001b[1;33m)\u001b[0m\u001b[1;33m:\u001b[0m\u001b[1;33m\u001b[0m\u001b[1;33m\u001b[0m\u001b[0m\n\u001b[1;32m--> 205\u001b[1;33m           \u001b[1;32mreturn\u001b[0m \u001b[0msaved_model_load\u001b[0m\u001b[1;33m.\u001b[0m\u001b[0mload\u001b[0m\u001b[1;33m(\u001b[0m\u001b[0mfilepath\u001b[0m\u001b[1;33m,\u001b[0m \u001b[0mcompile\u001b[0m\u001b[1;33m,\u001b[0m \u001b[0moptions\u001b[0m\u001b[1;33m)\u001b[0m\u001b[1;33m\u001b[0m\u001b[1;33m\u001b[0m\u001b[0m\n\u001b[0m\u001b[0;32m    206\u001b[0m \u001b[1;33m\u001b[0m\u001b[0m\n\u001b[0;32m    207\u001b[0m   raise IOError(\n",
      "\u001b[1;32m~\\anaconda3\\lib\\site-packages\\keras\\saving\\saved_model\\load.py\u001b[0m in \u001b[0;36mload\u001b[1;34m(path, compile, options)\u001b[0m\n\u001b[0;32m    106\u001b[0m   \u001b[1;31m# Look for metadata file or parse the SavedModel\u001b[0m\u001b[1;33m\u001b[0m\u001b[1;33m\u001b[0m\u001b[1;33m\u001b[0m\u001b[0m\n\u001b[0;32m    107\u001b[0m   \u001b[0mmetadata\u001b[0m \u001b[1;33m=\u001b[0m \u001b[0msaved_metadata_pb2\u001b[0m\u001b[1;33m.\u001b[0m\u001b[0mSavedMetadata\u001b[0m\u001b[1;33m(\u001b[0m\u001b[1;33m)\u001b[0m\u001b[1;33m\u001b[0m\u001b[1;33m\u001b[0m\u001b[0m\n\u001b[1;32m--> 108\u001b[1;33m   \u001b[0mmeta_graph_def\u001b[0m \u001b[1;33m=\u001b[0m \u001b[0mtf\u001b[0m\u001b[1;33m.\u001b[0m\u001b[0m__internal__\u001b[0m\u001b[1;33m.\u001b[0m\u001b[0msaved_model\u001b[0m\u001b[1;33m.\u001b[0m\u001b[0mparse_saved_model\u001b[0m\u001b[1;33m(\u001b[0m\u001b[0mpath\u001b[0m\u001b[1;33m)\u001b[0m\u001b[1;33m.\u001b[0m\u001b[0mmeta_graphs\u001b[0m\u001b[1;33m[\u001b[0m\u001b[1;36m0\u001b[0m\u001b[1;33m]\u001b[0m\u001b[1;33m\u001b[0m\u001b[1;33m\u001b[0m\u001b[0m\n\u001b[0m\u001b[0;32m    109\u001b[0m   \u001b[0mobject_graph_def\u001b[0m \u001b[1;33m=\u001b[0m \u001b[0mmeta_graph_def\u001b[0m\u001b[1;33m.\u001b[0m\u001b[0mobject_graph_def\u001b[0m\u001b[1;33m\u001b[0m\u001b[1;33m\u001b[0m\u001b[0m\n\u001b[0;32m    110\u001b[0m   \u001b[0mpath_to_metadata_pb\u001b[0m \u001b[1;33m=\u001b[0m \u001b[0mos\u001b[0m\u001b[1;33m.\u001b[0m\u001b[0mpath\u001b[0m\u001b[1;33m.\u001b[0m\u001b[0mjoin\u001b[0m\u001b[1;33m(\u001b[0m\u001b[0mpath\u001b[0m\u001b[1;33m,\u001b[0m \u001b[0mconstants\u001b[0m\u001b[1;33m.\u001b[0m\u001b[0mSAVED_METADATA_PATH\u001b[0m\u001b[1;33m)\u001b[0m\u001b[1;33m\u001b[0m\u001b[1;33m\u001b[0m\u001b[0m\n",
      "\u001b[1;32m~\\anaconda3\\lib\\site-packages\\tensorflow\\python\\saved_model\\loader_impl.py\u001b[0m in \u001b[0;36mparse_saved_model\u001b[1;34m(export_dir)\u001b[0m\n\u001b[0;32m    116\u001b[0m       \u001b[1;32mraise\u001b[0m \u001b[0mIOError\u001b[0m\u001b[1;33m(\u001b[0m\u001b[1;34m\"Cannot parse file %s: %s.\"\u001b[0m \u001b[1;33m%\u001b[0m \u001b[1;33m(\u001b[0m\u001b[0mpath_to_pbtxt\u001b[0m\u001b[1;33m,\u001b[0m \u001b[0mstr\u001b[0m\u001b[1;33m(\u001b[0m\u001b[0me\u001b[0m\u001b[1;33m)\u001b[0m\u001b[1;33m)\u001b[0m\u001b[1;33m)\u001b[0m\u001b[1;33m\u001b[0m\u001b[1;33m\u001b[0m\u001b[0m\n\u001b[0;32m    117\u001b[0m   \u001b[1;32melse\u001b[0m\u001b[1;33m:\u001b[0m\u001b[1;33m\u001b[0m\u001b[1;33m\u001b[0m\u001b[0m\n\u001b[1;32m--> 118\u001b[1;33m     raise IOError(\n\u001b[0m\u001b[0;32m    119\u001b[0m         \u001b[1;34m\"SavedModel file does not exist at: %s%s{%s|%s}\"\u001b[0m \u001b[1;33m%\u001b[0m\u001b[1;33m\u001b[0m\u001b[1;33m\u001b[0m\u001b[0m\n\u001b[0;32m    120\u001b[0m         (export_dir, os.path.sep, constants.SAVED_MODEL_FILENAME_PBTXT,\n",
      "\u001b[1;31mOSError\u001b[0m: SavedModel file does not exist at: ./models/3.71.hdf5_48_men_5_lstm_1_dense_1_units_32\\{saved_model.pbtxt|saved_model.pb}"
     ]
    }
   ],
   "source": [
    "from tensorflow.keras.models import load_model\n",
    "best_model=load_model('./models/3.57.hdf5_33_men_15_lstm_1_dense_1_units_32')"
   ]
  },
  {
   "cell_type": "code",
   "execution_count": 8,
   "id": "225df375",
   "metadata": {},
   "outputs": [],
   "source": [
    "#best_model.summary()\n",
    "#best_model.evaluate(X_test,y_test)\n",
    "pre=best_model.predict(X_test)"
   ]
  },
  {
   "cell_type": "code",
   "execution_count": 10,
   "id": "d7164ccf",
   "metadata": {},
   "outputs": [
    {
     "data": {
      "text/plain": [
       "<function matplotlib.pyplot.show(close=None, block=None)>"
      ]
     },
     "execution_count": 10,
     "metadata": {},
     "output_type": "execute_result"
    },
    {
     "data": {
      "image/png": "[encoded data removed]",
      "text/plain": [
       "<Figure size 432x288 with 1 Axes>"
      ]
     },
     "metadata": {
      "needs_background": "light"
     },
     "output_type": "display_data"
    }
   ],
   "source": [
    "import matplotlib.pyplot as plt\n",
    "\n",
    "df_time=df.index[-len(y_test):]\n",
    "plt.plot(df_time,y_test,color='red',label='price')#实际值图像\n",
    "plt.plot(df_time,pre,color='green',label='predict')#预测值图像\n",
    "plt.show\n"
   ]
  },
  {
   "cell_type": "code",
   "execution_count": null,
   "id": "24827dad",
   "metadata": {},
   "outputs": [],
   "source": []
  },
  {
   "cell_type": "code",
   "execution_count": 23,
   "id": "29ed3036",
   "metadata": {},
   "outputs": [],
   "source": [
    "from tensorflow.keras.models import load_model\n",
    "best_model=load_model('./modelsAgain/3.71.hdf5_48_men_5_lstm_1_dense_1_units_32')"
   ]
  },
  {
   "cell_type": "code",
   "execution_count": null,
   "id": "f3541065",
   "metadata": {},
   "outputs": [],
   "source": []
  },
  {
   "cell_type": "code",
   "execution_count": 24,
   "id": "37cea877",
   "metadata": {},
   "outputs": [],
   "source": [
    "#best_model.summary()\n",
    "#best_model.evaluate(X_test,y_test)\n",
    "pre=best_model.predict(X_test)"
   ]
  },
  {
   "cell_type": "code",
   "execution_count": 25,
   "id": "276a918f",
   "metadata": {},
   "outputs": [
    {
     "data": {
      "text/plain": [
       "<function matplotlib.pyplot.show(close=None, block=None)>"
      ]
     },
     "execution_count": 25,
     "metadata": {},
     "output_type": "execute_result"
    },
    {
     "data": {
      "image/png": "[encoded data removed]",
      "text/plain": [
       "<Figure size 432x288 with 1 Axes>"
      ]
     },
     "metadata": {
      "needs_background": "light"
     },
     "output_type": "display_data"
    }
   ],
   "source": [
    "import matplotlib.pyplot as plt\n",
    "\n",
    "df_time=df.index[-len(y_test):]\n",
    "plt.plot(df_time,y_test,color='red',label='price')#实际值图像\n",
    "plt.plot(df_time,pre,color='green',label='predict')#预测值图像\n",
    "plt.show"
   ]
  },
  {
   "cell_type": "code",
   "execution_count": null,
   "id": "ae035cb1",
   "metadata": {},
   "outputs": [],
   "source": []
  },
  {
   "cell_type": "code",
   "execution_count": null,
   "id": "d03d2295",
   "metadata": {},
   "outputs": [],
   "source": []
  }
 ],
 "metadata": {
  "kernelspec": {
   "display_name": "Python 3",
   "language": "python",
   "name": "python3"
  },
  "language_info": {
   "codemirror_mode": {
    "name": "ipython",
    "version": 3
   },
   "file_extension": ".py",
   "mimetype": "text/x-python",
   "name": "python",
   "nbconvert_exporter": "python",
   "pygments_lexer": "ipython3",
   "version": "3.8.8"
  }
 },
 "nbformat": 4,
 "nbformat_minor": 5
}
