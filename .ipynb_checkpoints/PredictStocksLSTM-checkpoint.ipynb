{
 "cells": [
  {
   "cell_type": "code",
   "execution_count": 1,
   "id": "d08272ab",
   "metadata": {},
   "outputs": [],
   "source": [
    "import pandas_datareader.data as web\n",
    "import datetime"
   ]
  },
  {
   "cell_type": "code",
   "execution_count": 2,
   "id": "1a814bac",
   "metadata": {},
   "outputs": [],
   "source": [
    "start=datetime.datetime(2000,1,1)\n",
    "end=datetime.datetime(2021,9,1)"
   ]
  },
  {
   "cell_type": "code",
   "execution_count": 3,
   "id": "053c5a48",
   "metadata": {},
   "outputs": [],
   "source": [
    "df=web.DataReader('GOOGL','stooq',start,end)"
   ]
  },
  {
   "cell_type": "code",
   "execution_count": 24,
   "id": "c12a1520",
   "metadata": {
    "scrolled": false
   },
   "outputs": [
    {
     "name": "stdout",
     "output_type": "stream",
     "text": [
      "                 Open      High        Low      Close       Volume    label\n",
      "Date                                                                       \n",
      "2004-08-19    2.50000    2.6015    2.39900    2.50850  894076000.0  2.53775\n",
      "2004-08-20    2.52525    2.7270    2.51250    2.70775  457144000.0  2.50025\n",
      "2004-08-23    2.76875    2.8370    2.72625    2.73500  365488000.0  2.53950\n",
      "2004-08-24    2.78100    2.7900    2.58925    2.62175  305252000.0  2.55750\n",
      "2004-08-25    2.62400    2.7000    2.59700    2.65000  183956000.0  2.55775\n",
      "...               ...       ...        ...        ...          ...      ...\n",
      "2021-07-29  136.15000  136.6610  135.54300  135.77800   31715720.0      NaN\n",
      "2021-07-30  135.03500  135.3050  134.25500  134.72700   25575780.0      NaN\n",
      "2021-08-02  135.11700  135.3360  133.79400  134.85400   21634200.0      NaN\n",
      "2021-08-03  135.13500  135.7320  133.32000  135.63000   20761880.0      NaN\n",
      "2021-08-04  135.34900  135.6500  134.48700  135.12600   19676020.0      NaN\n",
      "\n",
      "[4269 rows x 6 columns]\n"
     ]
    }
   ],
   "source": [
    "df.dropna(inplace=True)#要删掉空值，否则测试数据有问题,重试便发现少了数据（空值的）\n",
    "df.sort_index(inplace=True)\n",
    "pre_days=10\n",
    "df['label']=df['Close'].shift(-pre_days)\n",
    "print(df)"
   ]
  },
  {
   "cell_type": "code",
   "execution_count": 25,
   "id": "273e11f2",
   "metadata": {},
   "outputs": [],
   "source": [
    "from sklearn.preprocessing import StandardScaler"
   ]
  },
  {
   "cell_type": "code",
   "execution_count": 26,
   "id": "81ce3560",
   "metadata": {
    "scrolled": true
   },
   "outputs": [
    {
     "name": "stdout",
     "output_type": "stream",
     "text": [
      "[[-1.11067092 -1.10764158 -1.11272425 -1.10946028  4.8881565 ]\n",
      " [-1.10967557 -1.10274125 -1.10820951 -1.10161352  2.08531725]\n",
      " [-1.1000769  -1.09844615 -1.09970708 -1.10054037  1.4973607 ]\n",
      " ...\n",
      " [ 4.11703935  4.07516877  4.11383131  4.10250509 -0.70839884]\n",
      " [ 4.11774891  4.09063116  4.09497681  4.13306514 -0.71399461]\n",
      " [ 4.1261847   4.08742935  4.14139707  4.11321686 -0.72096021]]\n"
     ]
    }
   ],
   "source": [
    "scaler=StandardScaler()\n",
    "sca_x=scaler.fit_transform(df.iloc[:,:-1])\n",
    "print(sca_x)"
   ]
  },
  {
   "cell_type": "code",
   "execution_count": 27,
   "id": "88b565bd",
   "metadata": {},
   "outputs": [],
   "source": [
    "from collections import deque"
   ]
  },
  {
   "cell_type": "code",
   "execution_count": 40,
   "id": "b1ae8d0d",
   "metadata": {},
   "outputs": [],
   "source": [
    "#memory_days=5\n",
    "#若把记忆时间放长，查看测试效果\n",
    "memory_days=10\n",
    "deq=deque(maxlen=memory_days)"
   ]
  },
  {
   "cell_type": "code",
   "execution_count": 41,
   "id": "4127ed0c",
   "metadata": {},
   "outputs": [
    {
     "name": "stdout",
     "output_type": "stream",
     "text": [
      "4250\n",
      "10\n"
     ]
    }
   ],
   "source": [
    "x=[]\n",
    "for i in sca_x:\n",
    "    deq.append(i)\n",
    "    if len(deq)==memory_days:\n",
    "        x.append(list(deq))\n",
    "\n",
    "x_lately=x[-pre_days:]\n",
    "x=x[:-pre_days]\n",
    "print(len(x))\n",
    "print(len(x_lately))"
   ]
  },
  {
   "cell_type": "code",
   "execution_count": 42,
   "id": "1e5994be",
   "metadata": {},
   "outputs": [
    {
     "name": "stdout",
     "output_type": "stream",
     "text": [
      "4250\n"
     ]
    }
   ],
   "source": [
    "y=df['label'].values[memory_days-1:-pre_days]\n",
    "print(len(y))"
   ]
  },
  {
   "cell_type": "code",
   "execution_count": 44,
   "id": "914a0cc9",
   "metadata": {},
   "outputs": [],
   "source": [
    "import numpy as np"
   ]
  },
  {
   "cell_type": "code",
   "execution_count": 45,
   "id": "e540e847",
   "metadata": {},
   "outputs": [
    {
     "name": "stdout",
     "output_type": "stream",
     "text": [
      "(4250, 10, 5)\n",
      "(4250,)\n"
     ]
    }
   ],
   "source": [
    "x=np.array(x)\n",
    "y=np.array(y)\n",
    "print(x.shape)\n",
    "print(y.shape)"
   ]
  },
  {
   "cell_type": "code",
   "execution_count": 46,
   "id": "1dd89987",
   "metadata": {},
   "outputs": [],
   "source": [
    "#划分测试集和训练集\n",
    "from sklearn.model_selection import train_test_split\n",
    "X_train,X_test,y_train,y_test=train_test_split(x,y,test_size=0.1)"
   ]
  },
  {
   "cell_type": "code",
   "execution_count": 47,
   "id": "fb42c9d0",
   "metadata": {},
   "outputs": [],
   "source": [
    "import tensorflow\n",
    "from tensorflow.keras.models import Sequential\n",
    "from tensorflow.keras.layers import LSTM, Dense, Dropout"
   ]
  },
  {
   "cell_type": "code",
   "execution_count": 48,
   "id": "55983444",
   "metadata": {},
   "outputs": [],
   "source": [
    "import tensorflow\n",
    "from tensorflow.keras.models import Sequential\n",
    "from tensorflow.keras.layers import LSTM, Dense, Dropout\n",
    "\n",
    "#构建LSTM神经网络\n",
    "model=Sequential()\n",
    "#10个神经单元,激活函数：relu，循环神经网络所以return_sequences=True\n",
    "model.add(LSTM(10,input_shape=x.shape[1:],activation='relu',return_sequences=True))\n",
    "#防止过拟合 删除0.1的神经元\n",
    "model.add(Dropout(0.1))\n",
    "#构建第二层\n",
    "model.add(LSTM(10,activation='relu',return_sequences=True))\n",
    "model.add(Dropout(0.1))\n",
    "\n",
    "model.add(LSTM(10,activation='relu'))\n",
    "model.add(Dropout(0.1))\n",
    "#构建全连接层\n",
    "model.add(Dense(10,activation='relu'))\n",
    "model.add(Dropout(0.1))\n",
    "\n",
    "model.add(Dense(1))\n",
    "#编译 优化器adam，损失函数mse平均方差，评价函数mape\n",
    "model.compile(optimizer='adam',\n",
    "             loss='mse',\n",
    "             metrics=['mape'])"
   ]
  },
  {
   "cell_type": "code",
   "execution_count": 49,
   "id": "b7617058",
   "metadata": {},
   "outputs": [
    {
     "name": "stdout",
     "output_type": "stream",
     "text": [
      "Epoch 1/50\n",
      "120/120 [==============================] - 4s 17ms/step - loss: 825.5714 - mape: 68.1166 - val_loss: 25.0202 - val_mape: 18.6133\n",
      "Epoch 2/50\n",
      "120/120 [==============================] - 2s 16ms/step - loss: 126.8309 - mape: 28.1348 - val_loss: 38.0758 - val_mape: 18.2544\n",
      "Epoch 3/50\n",
      "120/120 [==============================] - 2s 13ms/step - loss: 99.5389 - mape: 23.7518 - val_loss: 18.9338 - val_mape: 17.0376\n",
      "Epoch 4/50\n",
      "120/120 [==============================] - 2s 14ms/step - loss: 99.8140 - mape: 22.8975 - val_loss: 13.0449 - val_mape: 14.4855\n",
      "Epoch 5/50\n",
      "120/120 [==============================] - 2s 13ms/step - loss: 97.2060 - mape: 21.9474 - val_loss: 22.3363 - val_mape: 14.4877\n",
      "Epoch 6/50\n",
      "120/120 [==============================] - 2s 13ms/step - loss: 83.6372 - mape: 21.5469 - val_loss: 11.4455 - val_mape: 14.6085\n",
      "Epoch 7/50\n",
      "120/120 [==============================] - 2s 13ms/step - loss: 76.0091 - mape: 20.2092 - val_loss: 18.8416 - val_mape: 13.1386\n",
      "Epoch 8/50\n",
      "120/120 [==============================] - 2s 16ms/step - loss: 70.6441 - mape: 19.7140 - val_loss: 13.1754 - val_mape: 9.7158\n",
      "Epoch 9/50\n",
      "120/120 [==============================] - 2s 14ms/step - loss: 62.8457 - mape: 19.9786 - val_loss: 12.9866 - val_mape: 11.2951\n",
      "Epoch 10/50\n",
      "120/120 [==============================] - 2s 15ms/step - loss: 66.3702 - mape: 19.5978 - val_loss: 9.7982 - val_mape: 10.0742\n",
      "Epoch 11/50\n",
      "120/120 [==============================] - 2s 14ms/step - loss: 65.2326 - mape: 19.8819 - val_loss: 21.4815 - val_mape: 12.0136\n",
      "Epoch 12/50\n",
      "120/120 [==============================] - 2s 13ms/step - loss: 63.9273 - mape: 19.1304 - val_loss: 15.9480 - val_mape: 12.2054\n",
      "Epoch 13/50\n",
      "120/120 [==============================] - 2s 13ms/step - loss: 58.1549 - mape: 18.4812 - val_loss: 26.7162 - val_mape: 13.4217\n",
      "Epoch 14/50\n",
      "120/120 [==============================] - 2s 15ms/step - loss: 55.6209 - mape: 18.1139 - val_loss: 19.0118 - val_mape: 10.4792\n",
      "Epoch 15/50\n",
      "120/120 [==============================] - 2s 15ms/step - loss: 59.3765 - mape: 18.3021 - val_loss: 17.9446 - val_mape: 11.7436\n",
      "Epoch 16/50\n",
      "120/120 [==============================] - 2s 17ms/step - loss: 56.6619 - mape: 18.5891 - val_loss: 16.8029 - val_mape: 9.9222\n",
      "Epoch 17/50\n",
      "120/120 [==============================] - 2s 15ms/step - loss: 57.7849 - mape: 18.0642 - val_loss: 13.7342 - val_mape: 9.6017\n",
      "Epoch 18/50\n",
      "120/120 [==============================] - 2s 14ms/step - loss: 51.5551 - mape: 17.7548 - val_loss: 20.3189 - val_mape: 10.2152\n",
      "Epoch 19/50\n",
      "120/120 [==============================] - 2s 14ms/step - loss: 45.8933 - mape: 17.2157 - val_loss: 18.8857 - val_mape: 11.5174\n",
      "Epoch 20/50\n",
      "120/120 [==============================] - 2s 14ms/step - loss: 47.1699 - mape: 17.3023 - val_loss: 21.6822 - val_mape: 10.6868\n",
      "Epoch 21/50\n",
      "120/120 [==============================] - 2s 14ms/step - loss: 54.2257 - mape: 17.3415 - val_loss: 31.3351 - val_mape: 12.4983\n",
      "Epoch 22/50\n",
      "120/120 [==============================] - 2s 16ms/step - loss: 49.2696 - mape: 16.7636 - val_loss: 43.0738 - val_mape: 12.1824\n",
      "Epoch 23/50\n",
      "120/120 [==============================] - 2s 16ms/step - loss: 51.8345 - mape: 16.7834 - val_loss: 15.7025 - val_mape: 11.8937\n",
      "Epoch 24/50\n",
      "120/120 [==============================] - 2s 15ms/step - loss: 45.5918 - mape: 16.4383 - val_loss: 20.6010 - val_mape: 9.4397\n",
      "Epoch 25/50\n",
      "120/120 [==============================] - 2s 14ms/step - loss: 46.2271 - mape: 16.2401 - val_loss: 40.2848 - val_mape: 15.4977\n",
      "Epoch 26/50\n",
      "120/120 [==============================] - 1s 12ms/step - loss: 47.1909 - mape: 16.6791 - val_loss: 32.5272 - val_mape: 12.5841\n",
      "Epoch 27/50\n",
      "120/120 [==============================] - 1s 12ms/step - loss: 45.3088 - mape: 16.3752 - val_loss: 19.5433 - val_mape: 10.5666\n",
      "Epoch 28/50\n",
      "120/120 [==============================] - 1s 12ms/step - loss: 46.3551 - mape: 16.3900 - val_loss: 32.7400 - val_mape: 12.0608\n",
      "Epoch 29/50\n",
      "120/120 [==============================] - 1s 12ms/step - loss: 46.9746 - mape: 15.9145 - val_loss: 20.9435 - val_mape: 9.7668\n",
      "Epoch 30/50\n",
      "120/120 [==============================] - 2s 14ms/step - loss: 44.9671 - mape: 15.6745 - val_loss: 36.6559 - val_mape: 11.6950\n",
      "Epoch 31/50\n",
      "120/120 [==============================] - 2s 15ms/step - loss: 43.6200 - mape: 15.4047 - val_loss: 36.6730 - val_mape: 10.5082\n",
      "Epoch 32/50\n",
      "120/120 [==============================] - 2s 16ms/step - loss: 42.7513 - mape: 14.7932 - val_loss: 47.7672 - val_mape: 11.9618\n",
      "Epoch 33/50\n",
      "120/120 [==============================] - 2s 15ms/step - loss: 43.1235 - mape: 14.3944 - val_loss: 49.4275 - val_mape: 13.4000\n",
      "Epoch 34/50\n",
      "120/120 [==============================] - 2s 15ms/step - loss: 37.9117 - mape: 14.3867 - val_loss: 41.6254 - val_mape: 12.0836\n",
      "Epoch 35/50\n",
      "120/120 [==============================] - 2s 15ms/step - loss: 42.9125 - mape: 14.2645 - val_loss: 38.7842 - val_mape: 10.1322\n",
      "Epoch 36/50\n",
      "120/120 [==============================] - 1s 12ms/step - loss: 46.4671 - mape: 15.0886 - val_loss: 38.4024 - val_mape: 10.7908\n",
      "Epoch 37/50\n",
      "120/120 [==============================] - 1s 12ms/step - loss: 42.5132 - mape: 14.0390 - val_loss: 47.1005 - val_mape: 14.5261\n",
      "Epoch 38/50\n",
      "120/120 [==============================] - 2s 15ms/step - loss: 40.9878 - mape: 14.1000 - val_loss: 41.6507 - val_mape: 12.5059\n",
      "Epoch 39/50\n",
      "120/120 [==============================] - 1s 12ms/step - loss: 42.4973 - mape: 13.5757 - val_loss: 24.9586 - val_mape: 7.7677\n",
      "Epoch 40/50\n",
      "120/120 [==============================] - 2s 18ms/step - loss: 38.0143 - mape: 13.2944 - val_loss: 34.8318 - val_mape: 10.0934\n",
      "Epoch 41/50\n",
      "120/120 [==============================] - 2s 18ms/step - loss: 39.3587 - mape: 13.6083 - val_loss: 47.5666 - val_mape: 10.9700\n",
      "Epoch 42/50\n",
      "120/120 [==============================] - 2s 16ms/step - loss: 36.2869 - mape: 13.1226 - val_loss: 37.1251 - val_mape: 11.9911\n",
      "Epoch 43/50\n",
      "120/120 [==============================] - 2s 14ms/step - loss: 37.9739 - mape: 13.3413 - val_loss: 37.0919 - val_mape: 10.5211\n",
      "Epoch 44/50\n",
      "120/120 [==============================] - 2s 15ms/step - loss: 38.6024 - mape: 13.3261 - val_loss: 50.6443 - val_mape: 11.8903\n",
      "Epoch 45/50\n",
      "120/120 [==============================] - 2s 16ms/step - loss: 37.5512 - mape: 13.2747 - val_loss: 55.3402 - val_mape: 11.7954\n",
      "Epoch 46/50\n",
      "120/120 [==============================] - 2s 15ms/step - loss: 38.4910 - mape: 13.0533 - val_loss: 28.9777 - val_mape: 9.8797\n",
      "Epoch 47/50\n",
      "120/120 [==============================] - 2s 16ms/step - loss: 35.5038 - mape: 12.9856 - val_loss: 23.3650 - val_mape: 7.8950\n",
      "Epoch 48/50\n",
      "120/120 [==============================] - 2s 15ms/step - loss: 43.2743 - mape: 13.1473 - val_loss: 38.1976 - val_mape: 12.8950\n",
      "Epoch 49/50\n",
      "120/120 [==============================] - 2s 15ms/step - loss: 39.3833 - mape: 13.2464 - val_loss: 15.1292 - val_mape: 7.2315\n",
      "Epoch 50/50\n",
      "120/120 [==============================] - 1s 12ms/step - loss: 44.2491 - mape: 13.8649 - val_loss: 13.9953 - val_mape: 6.7908\n"
     ]
    },
    {
     "data": {
      "text/plain": [
       "<keras.callbacks.History at 0x1d1875e1fa0>"
      ]
     },
     "execution_count": 49,
     "metadata": {},
     "output_type": "execute_result"
    }
   ],
   "source": [
    "##初步训练模型  validation_data:校验的数据集\n",
    "model.fit(X_train,y_train,batch_size=32, epochs=50, validation_data=(X_test, y_test))"
   ]
  },
  {
   "cell_type": "code",
   "execution_count": null,
   "id": "4614ba2e",
   "metadata": {},
   "outputs": [],
   "source": []
  },
  {
   "cell_type": "code",
   "execution_count": 2,
   "id": "75549684",
   "metadata": {},
   "outputs": [],
   "source": [
    "import pandas_datareader.data as web\n",
    "import datetime\n",
    "\n",
    "start=datetime.datetime(2000,1,1)\n",
    "end=datetime.datetime(2021,9,1)\n",
    "df=web.DataReader('GOOGL','stooq',start,end)\n",
    "#数据预处理  优化\n",
    "\n",
    "def Stock_Price_LSTM_Data_Precessing(df,memory_days,pre_days):\n",
    "    df.dropna(inplace=True)#要删掉空值，否则测试数据有问题,重试便发现少了数据（空值的）\n",
    "    df.sort_index(inplace=True)\n",
    "    \n",
    "    df['label']=df['Close'].shift(-pre_days)\n",
    "    \n",
    "    from sklearn.preprocessing import StandardScaler\n",
    "    scaler=StandardScaler()\n",
    "    sca_x=scaler.fit_transform(df.iloc[:,:-1])\n",
    "    \n",
    "    from collections import deque\n",
    "    deq=deque(maxlen=memory_days)\n",
    "    \n",
    "    x=[]\n",
    "    for i in sca_x:\n",
    "        deq.append(i)\n",
    "        if len(deq)==memory_days:\n",
    "            x.append(list(deq))\n",
    "\n",
    "    x_lately=x[-pre_days:]\n",
    "    x=x[:-pre_days]\n",
    "    \n",
    "    y=df['label'].values[memory_days-1:-pre_days]\n",
    "\n",
    "    import numpy as np\n",
    "    x=np.array(x)\n",
    "    y=np.array(y)\n",
    "    \n",
    "    return x,y,x_lately"
   ]
  },
  {
   "cell_type": "code",
   "execution_count": 3,
   "id": "fe588b8b",
   "metadata": {},
   "outputs": [],
   "source": [
    "x,y,x_lately=Stock_Price_LSTM_Data_Precessing(df,5,10)"
   ]
  },
  {
   "cell_type": "code",
   "execution_count": 4,
   "id": "8dccb0c8",
   "metadata": {},
   "outputs": [
    {
     "name": "stdout",
     "output_type": "stream",
     "text": [
      "4275\n",
      "4275\n",
      "10\n"
     ]
    }
   ],
   "source": [
    "print(len(x))\n",
    "print(len(y))\n",
    "print(len(x_lately))"
   ]
  },
  {
   "cell_type": "code",
   "execution_count": 11,
   "id": "83067f3b",
   "metadata": {},
   "outputs": [
    {
     "name": "stdout",
     "output_type": "stream",
     "text": [
      "Epoch 1/50\n",
      "105/105 [==============================] - 5s 24ms/step - loss: 175.0569 - mape: 52.2598 - val_loss: 20.1622 - val_mape: 6.4382\n",
      "INFO:tensorflow:Assets written to: ./modelsAgain\\6.44.hdf5_01_men_15_lstm_1_dense_1_units_32\\assets\n",
      "Epoch 2/50\n",
      "105/105 [==============================] - 2s 23ms/step - loss: 17.3615 - mape: 17.7042 - val_loss: 17.4894 - val_mape: 6.0705\n",
      "INFO:tensorflow:Assets written to: ./modelsAgain\\6.07.hdf5_02_men_15_lstm_1_dense_1_units_32\\assets\n",
      "Epoch 3/50\n",
      "105/105 [==============================] - 2s 23ms/step - loss: 15.7336 - mape: 15.4866 - val_loss: 17.9228 - val_mape: 6.5748\n",
      "Epoch 4/50\n",
      "105/105 [==============================] - 3s 24ms/step - loss: 13.3034 - mape: 14.3354 - val_loss: 11.8435 - val_mape: 5.1545\n",
      "INFO:tensorflow:Assets written to: ./modelsAgain\\5.15.hdf5_04_men_15_lstm_1_dense_1_units_32\\assets\n",
      "Epoch 5/50\n",
      "105/105 [==============================] - 2s 23ms/step - loss: 12.1244 - mape: 13.4335 - val_loss: 10.4931 - val_mape: 4.9448\n",
      "INFO:tensorflow:Assets written to: ./modelsAgain\\4.94.hdf5_05_men_15_lstm_1_dense_1_units_32\\assets\n",
      "Epoch 6/50\n",
      "105/105 [==============================] - 2s 23ms/step - loss: 12.4094 - mape: 14.0311 - val_loss: 12.5464 - val_mape: 5.2876\n",
      "Epoch 7/50\n",
      "105/105 [==============================] - 3s 25ms/step - loss: 11.9203 - mape: 13.9558 - val_loss: 13.1566 - val_mape: 5.5405\n",
      "Epoch 8/50\n",
      "105/105 [==============================] - 3s 24ms/step - loss: 10.4962 - mape: 12.5952 - val_loss: 19.4394 - val_mape: 6.4524\n",
      "Epoch 9/50\n",
      "105/105 [==============================] - 3s 24ms/step - loss: 9.7508 - mape: 12.3496 - val_loss: 96.5008 - val_mape: 15.8106\n",
      "Epoch 10/50\n",
      "105/105 [==============================] - 2s 23ms/step - loss: 9.9903 - mape: 13.0142 - val_loss: 38.0889 - val_mape: 9.5581\n",
      "Epoch 11/50\n",
      "105/105 [==============================] - 2s 22ms/step - loss: 9.6188 - mape: 11.8450 - val_loss: 32.5854 - val_mape: 8.6872\n",
      "Epoch 12/50\n",
      "105/105 [==============================] - 2s 22ms/step - loss: 9.7143 - mape: 11.8214 - val_loss: 20.3409 - val_mape: 6.5813\n",
      "Epoch 13/50\n",
      "105/105 [==============================] - 2s 22ms/step - loss: 9.1577 - mape: 11.8551 - val_loss: 17.8591 - val_mape: 6.1480\n",
      "Epoch 14/50\n",
      "105/105 [==============================] - 2s 22ms/step - loss: 8.8214 - mape: 11.5278 - val_loss: 21.1072 - val_mape: 6.7141\n",
      "Epoch 15/50\n",
      "105/105 [==============================] - 2s 22ms/step - loss: 8.6531 - mape: 11.4188 - val_loss: 9.4795 - val_mape: 4.6661\n",
      "INFO:tensorflow:Assets written to: ./modelsAgain\\4.67.hdf5_15_men_15_lstm_1_dense_1_units_32\\assets\n",
      "Epoch 16/50\n",
      "105/105 [==============================] - 2s 22ms/step - loss: 7.6347 - mape: 11.0504 - val_loss: 14.8604 - val_mape: 5.6423\n",
      "Epoch 17/50\n",
      "105/105 [==============================] - 2s 22ms/step - loss: 7.6473 - mape: 11.1868 - val_loss: 10.4332 - val_mape: 4.9546\n",
      "Epoch 18/50\n",
      "105/105 [==============================] - 2s 22ms/step - loss: 8.3966 - mape: 11.0250 - val_loss: 14.4635 - val_mape: 5.4790\n",
      "Epoch 19/50\n",
      "105/105 [==============================] - 2s 21ms/step - loss: 7.7567 - mape: 10.7376 - val_loss: 17.1589 - val_mape: 6.0206\n",
      "Epoch 20/50\n",
      "105/105 [==============================] - 2s 22ms/step - loss: 6.9637 - mape: 10.4756 - val_loss: 37.2947 - val_mape: 9.4165\n",
      "Epoch 21/50\n",
      "105/105 [==============================] - 2s 23ms/step - loss: 7.3090 - mape: 10.5590 - val_loss: 31.2078 - val_mape: 8.4514\n",
      "Epoch 22/50\n",
      "105/105 [==============================] - 2s 21ms/step - loss: 7.0250 - mape: 10.1919 - val_loss: 82.7017 - val_mape: 15.1444\n",
      "Epoch 23/50\n",
      "105/105 [==============================] - 2s 21ms/step - loss: 7.1027 - mape: 10.4264 - val_loss: 20.6889 - val_mape: 6.6378\n",
      "Epoch 24/50\n",
      "105/105 [==============================] - 2s 20ms/step - loss: 7.4343 - mape: 10.6532 - val_loss: 21.5321 - val_mape: 6.7810\n",
      "Epoch 25/50\n",
      "105/105 [==============================] - 2s 21ms/step - loss: 6.6138 - mape: 10.0876 - val_loss: 33.1650 - val_mape: 8.7851\n",
      "Epoch 26/50\n",
      "105/105 [==============================] - 2s 21ms/step - loss: 7.3982 - mape: 10.3962 - val_loss: 17.8248 - val_mape: 6.1531\n",
      "Epoch 27/50\n",
      "105/105 [==============================] - 2s 20ms/step - loss: 7.1747 - mape: 10.1390 - val_loss: 31.2219 - val_mape: 8.5108\n",
      "Epoch 28/50\n",
      "105/105 [==============================] - 2s 21ms/step - loss: 6.6706 - mape: 9.9235 - val_loss: 48.0321 - val_mape: 11.0542\n",
      "Epoch 29/50\n",
      "105/105 [==============================] - 2s 21ms/step - loss: 6.9536 - mape: 10.0616 - val_loss: 9.0432 - val_mape: 4.5659\n",
      "INFO:tensorflow:Assets written to: ./modelsAgain\\4.57.hdf5_29_men_15_lstm_1_dense_1_units_32\\assets\n",
      "Epoch 30/50\n",
      "105/105 [==============================] - 3s 25ms/step - loss: 7.1770 - mape: 10.2480 - val_loss: 17.2698 - val_mape: 6.0372\n",
      "Epoch 31/50\n",
      "105/105 [==============================] - 2s 20ms/step - loss: 6.9639 - mape: 10.0704 - val_loss: 11.6387 - val_mape: 5.0690\n",
      "Epoch 32/50\n",
      "105/105 [==============================] - 2s 20ms/step - loss: 6.7499 - mape: 10.2984 - val_loss: 34.2441 - val_mape: 8.9891\n",
      "Epoch 33/50\n",
      "105/105 [==============================] - 2s 20ms/step - loss: 6.9184 - mape: 9.8875 - val_loss: 18.4056 - val_mape: 6.2608\n",
      "Epoch 34/50\n",
      "105/105 [==============================] - 2s 20ms/step - loss: 6.1805 - mape: 10.0706 - val_loss: 30.6074 - val_mape: 8.4136\n",
      "Epoch 35/50\n",
      "105/105 [==============================] - 2s 20ms/step - loss: 6.7119 - mape: 9.7723 - val_loss: 16.5481 - val_mape: 5.9136\n",
      "Epoch 36/50\n",
      "105/105 [==============================] - 2s 20ms/step - loss: 6.4838 - mape: 9.7024 - val_loss: 34.8837 - val_mape: 9.1247\n",
      "Epoch 37/50\n",
      "105/105 [==============================] - 2s 20ms/step - loss: 6.5114 - mape: 9.5794 - val_loss: 41.0863 - val_mape: 10.0825\n",
      "Epoch 38/50\n",
      "105/105 [==============================] - 2s 19ms/step - loss: 6.1056 - mape: 9.4531 - val_loss: 42.7063 - val_mape: 10.3134\n",
      "Epoch 39/50\n",
      "105/105 [==============================] - 2s 20ms/step - loss: 6.2129 - mape: 9.5764 - val_loss: 15.5337 - val_mape: 5.7605\n",
      "Epoch 40/50\n",
      "105/105 [==============================] - 2s 20ms/step - loss: 6.3691 - mape: 9.7696 - val_loss: 49.6206 - val_mape: 11.3074\n",
      "Epoch 41/50\n",
      "105/105 [==============================] - 2s 20ms/step - loss: 7.1628 - mape: 10.0831 - val_loss: 25.9988 - val_mape: 7.6264\n",
      "Epoch 42/50\n",
      "105/105 [==============================] - 2s 20ms/step - loss: 7.3926 - mape: 10.1421 - val_loss: 39.6440 - val_mape: 9.8937\n",
      "Epoch 43/50\n",
      "105/105 [==============================] - 2s 20ms/step - loss: 6.7940 - mape: 9.7620 - val_loss: 46.0600 - val_mape: 10.7995\n",
      "Epoch 44/50\n",
      "105/105 [==============================] - 2s 20ms/step - loss: 6.8177 - mape: 10.1589 - val_loss: 66.4874 - val_mape: 13.4221\n",
      "Epoch 45/50\n",
      "105/105 [==============================] - 2s 20ms/step - loss: 6.1652 - mape: 9.4072 - val_loss: 27.6718 - val_mape: 7.9360\n",
      "Epoch 46/50\n",
      "105/105 [==============================] - 2s 20ms/step - loss: 6.3163 - mape: 9.5299 - val_loss: 40.6435 - val_mape: 10.0403\n",
      "Epoch 47/50\n",
      "105/105 [==============================] - 2s 20ms/step - loss: 5.9608 - mape: 9.3100 - val_loss: 27.6806 - val_mape: 8.0157\n",
      "Epoch 48/50\n",
      "105/105 [==============================] - 2s 20ms/step - loss: 6.8467 - mape: 9.8959 - val_loss: 16.7945 - val_mape: 6.0755\n",
      "Epoch 49/50\n",
      "105/105 [==============================] - 2s 19ms/step - loss: 5.9580 - mape: 8.9722 - val_loss: 37.1931 - val_mape: 9.5312\n",
      "Epoch 50/50\n",
      "105/105 [==============================] - 2s 19ms/step - loss: 6.2326 - mape: 9.6026 - val_loss: 31.6273 - val_mape: 8.6506\n"
     ]
    }
   ],
   "source": [
    "\n",
    "from tensorflow.keras.callbacks import ModelCheckpoint\n",
    "\n",
    "#memory_days=[5,10,15]\n",
    "#lstm_layers=[1,2,3]\n",
    "#dense_layers=[1,2,3]\n",
    "#units=[16,32]#神经元\n",
    "memory_days=[15]    #记忆10天，10天数据作为输入\n",
    "lstm_layers=[1]\n",
    "dense_layers=[1]\n",
    "units=[32]#神经元\n",
    "pre_days=10         #预测10天后的数据  比如：8月10日预测8月20日数据，把8月1日--8月10日数据作为输入\n",
    "#callbacks用transform 能在每一次训练中找到最优的模型（https://keras.io/api/callbacks/model_checkpoint/）\n",
    "for the_men_days in memory_days:\n",
    "    for the_lstm_layers in lstm_layers:\n",
    "        for the_dense_layers in dense_layers:\n",
    "            for the_units in units:        #{epoch:02d}【：第几期】-{val_loss:.2f}.hdf5【：偏差率】中loss改mape\n",
    "                checkpoint_filepath='./modelsAgain/{val_mape:.2f}.hdf5_{epoch:02d}_'+f'men_{the_men_days}_lstm_{the_lstm_layers}_dense_{the_dense_layers}_units_{the_units}'\n",
    "                \n",
    "                Checkpoint=ModelCheckpoint(\n",
    "                    filepath=checkpoint_filepath,\n",
    "                    save_weights_only=False,\n",
    "                    monitor='val_mape',\n",
    "                    mode='min',\n",
    "                    save_best_only=True)\n",
    "\n",
    "                x,y,x_lately=Stock_Price_LSTM_Data_Precessing(df,the_men_days,pre_days)\n",
    "                #划分测试集和训练集\n",
    "                from sklearn.model_selection import train_test_split\n",
    "                X_train,X_test,y_train,y_test=train_test_split(x,y,shuffle=False,test_size=0.1)#循序不打乱\n",
    "\n",
    "                \n",
    "                \n",
    "                import tensorflow\n",
    "                from tensorflow.keras.models import Sequential\n",
    "                from tensorflow.keras.layers import LSTM, Dense, Dropout\n",
    "\n",
    "                #构建LSTM神经网络\n",
    "                model=Sequential()\n",
    "                #10个神经单元,激活函数：relu，循环神经网络所以return_sequences=True\n",
    "                model.add(LSTM(the_units,input_shape=x.shape[1:],activation='relu',return_sequences=True))\n",
    "                #防止过拟合 删除0.1的神经元\n",
    "                model.add(Dropout(0.1))\n",
    "                \n",
    "                for i in range(the_lstm_layers):\n",
    "                    #构建第二层\n",
    "                    model.add(LSTM(the_units,activation='relu',return_sequences=True))\n",
    "                    model.add(Dropout(0.1))\n",
    "\n",
    "                model.add(LSTM(the_units,activation='relu'))\n",
    "                model.add(Dropout(0.1))\n",
    "                \n",
    "                for i in range(the_dense_layers):\n",
    "                    #构建全连接层\n",
    "                    model.add(Dense(the_units,activation='relu'))\n",
    "                    model.add(Dropout(0.1))\n",
    "\n",
    "                model.add(Dense(1))\n",
    "                #编译 优化器adam，损失函数mse平均方差，评价函数mape\n",
    "                model.compile(optimizer='adam',\n",
    "                             loss='mse',\n",
    "                             metrics=['mape'])\n",
    "                model.fit(X_train,y_train,batch_size=32,epochs=50,validation_data=(X_test,y_test),callbacks=[Checkpoint])"
   ]
  },
  {
   "cell_type": "code",
   "execution_count": 7,
   "id": "64829df7",
   "metadata": {},
   "outputs": [],
   "source": [
    "from tensorflow.keras.models import load_model\n",
    "best_model=load_model('./models/3.57.hdf5_33_men_15_lstm_1_dense_1_units_32')"
   ]
  },
  {
   "cell_type": "code",
   "execution_count": 8,
   "id": "225df375",
   "metadata": {},
   "outputs": [],
   "source": [
    "#best_model.summary()\n",
    "#best_model.evaluate(X_test,y_test)\n",
    "pre=best_model.predict(X_test)"
   ]
  },
  {
   "cell_type": "code",
   "execution_count": 10,
   "id": "d7164ccf",
   "metadata": {},
   "outputs": [
    {
     "data": {
      "text/plain": [
       "<function matplotlib.pyplot.show(close=None, block=None)>"
      ]
     },
     "execution_count": 10,
     "metadata": {},
     "output_type": "execute_result"
    },
    {
     "data": {
      "image/png": "[encoded data removed]",
      "text/plain": [
       "<Figure size 432x288 with 1 Axes>"
      ]
     },
     "metadata": {
      "needs_background": "light"
     },
     "output_type": "display_data"
    }
   ],
   "source": [
    "import matplotlib.pyplot as plt\n",
    "\n",
    "df_time=df.index[-len(y_test):]\n",
    "plt.plot(df_time,y_test,color='red',label='price')#实际值图像\n",
    "plt.plot(df_time,pre,color='green',label='predict')#预测值图像\n",
    "plt.show\n"
   ]
  },
  {
   "cell_type": "code",
   "execution_count": null,
   "id": "24827dad",
   "metadata": {},
   "outputs": [],
   "source": []
  },
  {
   "cell_type": "code",
   "execution_count": 12,
   "id": "6be4cb3b",
   "metadata": {},
   "outputs": [],
   "source": [
    "from tensorflow.keras.models import load_model\n",
    "best_model=load_model('./modelsAgain/4.57.hdf5_29_men_15_lstm_1_dense_1_units_32')"
   ]
  },
  {
   "cell_type": "code",
   "execution_count": 13,
   "id": "45280ec1",
   "metadata": {},
   "outputs": [],
   "source": [
    "#best_model.summary()\n",
    "#best_model.evaluate(X_test,y_test)\n",
    "pre=best_model.predict(X_test)"
   ]
  },
  {
   "cell_type": "code",
   "execution_count": 14,
   "id": "e8cfa000",
   "metadata": {},
   "outputs": [
    {
     "data": {
      "text/plain": [
       "<function matplotlib.pyplot.show(close=None, block=None)>"
      ]
     },
     "execution_count": 14,
     "metadata": {},
     "output_type": "execute_result"
    },
    {
     "data": {
      "image/png": "[encoded data removed]",
      "text/plain": [
       "<Figure size 432x288 with 1 Axes>"
      ]
     },
     "metadata": {
      "needs_background": "light"
     },
     "output_type": "display_data"
    }
   ],
   "source": [
    "import matplotlib.pyplot as plt\n",
    "\n",
    "df_time=df.index[-len(y_test):]\n",
    "plt.plot(df_time,y_test,color='red',label='price')#实际值图像\n",
    "plt.plot(df_time,pre,color='green',label='predict')#预测值图像\n",
    "plt.show"
   ]
  },
  {
   "cell_type": "code",
   "execution_count": null,
   "id": "aa91d1f8",
   "metadata": {},
   "outputs": [],
   "source": []
  },
  {
   "cell_type": "code",
   "execution_count": null,
   "id": "2d75f94c",
   "metadata": {},
   "outputs": [],
   "source": []
  }
 ],
 "metadata": {
  "kernelspec": {
   "display_name": "Python 3",
   "language": "python",
   "name": "python3"
  },
  "language_info": {
   "codemirror_mode": {
    "name": "ipython",
    "version": 3
   },
   "file_extension": ".py",
   "mimetype": "text/x-python",
   "name": "python",
   "nbconvert_exporter": "python",
   "pygments_lexer": "ipython3",
   "version": "3.8.8"
  }
 },
 "nbformat": 4,
 "nbformat_minor": 5
}
